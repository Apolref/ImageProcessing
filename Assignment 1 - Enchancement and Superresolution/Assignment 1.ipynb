{
  "nbformat": 4,
  "nbformat_minor": 0,
  "metadata": {
    "colab": {
      "provenance": []
    },
    "kernelspec": {
      "name": "python3",
      "display_name": "Python 3"
    },
    "language_info": {
      "name": "python"
    }
  },
  "cells": [
    {
      "cell_type": "markdown",
      "source": [
        "##Assignment 1 - enhancement and superresolution\n",
        "\n"
      ],
      "metadata": {
        "id": "CxmRbOvJF9E_"
      }
    },
    {
      "cell_type": "code",
      "execution_count": null,
      "metadata": {
        "id": "q5u6I6jfF7Nr",
        "colab": {
          "base_uri": "https://localhost:8080/",
          "height": 35
        },
        "outputId": "5d4f9ec7-f019-432a-a235-cd9bbecef12d"
      },
      "outputs": [
        {
          "output_type": "execute_result",
          "data": {
            "text/plain": [
              "'\\nNúmero USP: 11801199\\nCurso: Engenharia de Computação\\nSemestre: 2024/1\\nTítulo: 1 - Enhancement and superresolution\\n\\n'"
            ],
            "application/vnd.google.colaboratory.intrinsic+json": {
              "type": "string"
            }
          },
          "metadata": {},
          "execution_count": 43
        }
      ],
      "source": [
        "import numpy as np\n",
        "import imageio.v3 as imageio\n",
        "#import matplotlib.pyplot as plt\n",
        "import sys\n",
        "\n",
        "\"\"\"\n",
        "Número USP: 11801199\n",
        "Curso: Engenharia de Computação\n",
        "Semestre: 2024/1\n",
        "Título: 1 - Enhancement and superresolution\n",
        "\n",
        "\"\"\""
      ]
    },
    {
      "cell_type": "markdown",
      "source": [
        "#Basic histogram"
      ],
      "metadata": {
        "id": "lSw-tm9VMWzB"
      }
    },
    {
      "cell_type": "code",
      "source": [
        "def histogram (img, no_levels):\n",
        "\n",
        "  # gets the size of the input matrix\n",
        "  N, M = img.shape\n",
        "\n",
        "  # creates an empty histogram with size proportional to the number of graylevels\n",
        "  hist = np.zeros(no_levels).astype(int)\n",
        "\n",
        "  # computes for all levels in the range\n",
        "  for i in range(no_levels):\n",
        "      # sum all positions in which img == i is true\n",
        "      pixels_value_i = np.sum(img == i)\n",
        "      # store it in the histogram array\n",
        "      hist[i] = pixels_value_i\n",
        "\n",
        "  return(hist)"
      ],
      "metadata": {
        "id": "KppqCm9yMV6W"
      },
      "execution_count": null,
      "outputs": []
    },
    {
      "cell_type": "markdown",
      "source": [
        "#Option 1"
      ],
      "metadata": {
        "id": "S45aow7AGT0p"
      }
    },
    {
      "cell_type": "code",
      "source": [
        "def single_img_comulative_histogram(img, no_levels):\n",
        "\n",
        "  # computes the image histogram\n",
        "  hist = histogram(img, 256)\n",
        "\n",
        "  # creates an empty cumulative histogram\n",
        "  histC = np.zeros(no_levels).astype(int)\n",
        "\n",
        "  # computes the cumulative histogram\n",
        "  histC[0] = hist[0] # first value (intensity 0)\n",
        "  # from intensity 1 to no_levels-1\n",
        "  for i in range(1,  no_levels):\n",
        "      histC[i] = hist[i] + histC[i-1]\n",
        "\n",
        "  # the vector below is used to store the actual transformation function\n",
        "  # it allows us to later visualize what was the function that computed\n",
        "  # the equalisation\n",
        "  hist_transform = np.zeros(no_levels).astype(np.uint8)\n",
        "\n",
        "  # gets the size of the input image\n",
        "  N, M = img.shape\n",
        "\n",
        "  # create the image to store the equalised version\n",
        "  img_eq = np.zeros([N,M]).astype(np.uint8)\n",
        "\n",
        "  # for each intensity value, transforms it into a new intensity\n",
        "  # using the np.where() function\n",
        "  for z in range(no_levels):\n",
        "      # computes what would be the output level 's' for an input value 'z'\n",
        "      s = ((no_levels-1)/float(M*N))*histC[z]\n",
        "\n",
        "      # for every coordinate in which matrix img has the value 'z'\n",
        "      # assigns the transformed/equalised value 's'\n",
        "      img_eq[ np.where(img == z) ] = s\n",
        "\n",
        "      # store the tranformation function\n",
        "      hist_transform[z] = s\n",
        "\n",
        "  return (img_eq)"
      ],
      "metadata": {
        "id": "w4Pm8fktJHcv"
      },
      "execution_count": null,
      "outputs": []
    },
    {
      "cell_type": "markdown",
      "source": [
        "#Option 2"
      ],
      "metadata": {
        "id": "pVxYAqzGNxM6"
      }
    },
    {
      "cell_type": "code",
      "source": [
        "def joint_cumulative_histogram(imglow, no_levels):\n",
        "\n",
        "  # Compute histograms for each image\n",
        "  h0 = histogram(imglow[0], 256)\n",
        "  h1 = histogram(imglow[1], 256)\n",
        "  h2 = histogram(imglow[2], 256)\n",
        "  h3 = histogram(imglow[3], 256)\n",
        "\n",
        "  # Combining the histograms\n",
        "  hist = h0+h1+h2+h3\n",
        "\n",
        "  #creates an empty cumulative histogram\n",
        "  histC = np.zeros(no_levels).astype(int)\n",
        "\n",
        "  # computes the cumulative histogram\n",
        "  histC[0] = hist[0] # first value (intensity 0)\n",
        "  # from intensity 1 to no_levels-1\n",
        "  for i in range(1,  no_levels):\n",
        "      histC[i] = hist[i] + histC[i-1]\n",
        "\n",
        "  # the vector below is used to store the actual transformation function\n",
        "  # it allows us to later visualize what was the function that computed\n",
        "  # the equalisation\n",
        "  hist_transform = np.zeros(no_levels).astype(np.uint8)\n",
        "\n",
        "  # gets the size of the input image\n",
        "  N, M = img.shape\n",
        "\n",
        "  # create the image to store the equalised version\n",
        "\n",
        "  img_eq = [np.zeros([N,M]).astype(np.uint8)]*4\n",
        "\n",
        "  # for each intensity value, transforms it into a new intensity\n",
        "  # using the np.where() function\n",
        "  for j in range(0,3):\n",
        "    for z in range(no_levels):\n",
        "        # computes what would be the output level 's' for an input value 'z'\n",
        "        s = ((no_levels-1)/float(4*M*N))*histC[z]\n",
        "\n",
        "        # for every coordinate in which matrix img has the value 'z'\n",
        "        # assigns the transformed/equalised value 's'\n",
        "        img_eq[j][ np.where(imglow[j] == z) ] = s\n",
        "\n",
        "        # store the tranformation function\n",
        "        hist_transform[z] = s\n",
        "\n",
        "  return (img_eq)"
      ],
      "metadata": {
        "id": "LoIcA9DsNwx5"
      },
      "execution_count": null,
      "outputs": []
    },
    {
      "cell_type": "markdown",
      "source": [
        "#Option 3"
      ],
      "metadata": {
        "id": "27SrEO3cN4KL"
      }
    },
    {
      "cell_type": "code",
      "source": [
        "def gamma_correction(img,gamma):\n",
        "  # appling the gamma correction formula\n",
        "  new_img = 255*((img/255.0)**(1/gamma))\n",
        "  return(new_img).astype('uint8')"
      ],
      "metadata": {
        "id": "AOqoVBcbN5aK"
      },
      "execution_count": null,
      "outputs": []
    },
    {
      "cell_type": "markdown",
      "source": [
        "#Superresolution"
      ],
      "metadata": {
        "id": "bnQBqXuIOqQZ"
      }
    },
    {
      "cell_type": "code",
      "source": [
        "def superresolution(e_img):\n",
        "  # Create an empty high-resolution image array with dimensions 512x512\n",
        "  highimg = np.zeros([512,512])\n",
        "\n",
        "  # Upscale the low-resolution images and place them in the high-resolution array\n",
        "  highimg [::2,::2] = e_img[0]  # Upscale and place the first quadrant\n",
        "  highimg [1::2,::2] = e_img[1]  # Upscale and place the second quadrant\n",
        "  highimg [::2,1::2] = e_img[2]  # Upscale and place the third quadrant\n",
        "  highimg [1::2,1::2] = e_img[3]  # Upscale and place the fourth quadrant\n",
        "  return highimg"
      ],
      "metadata": {
        "id": "8nbTcyuhOzus"
      },
      "execution_count": null,
      "outputs": []
    },
    {
      "cell_type": "markdown",
      "source": [
        "#RMSE"
      ],
      "metadata": {
        "id": "Tz2OeMCzO98U"
      }
    },
    {
      "cell_type": "code",
      "source": [
        "def calculate_rmse(imghigh, h_hat):\n",
        "  rmse = np.sqrt(np.mean((imghigh-h_hat)**2)) # appling the error formula\n",
        "  return rmse"
      ],
      "metadata": {
        "id": "phoipcqSO7uN"
      },
      "execution_count": null,
      "outputs": []
    },
    {
      "cell_type": "markdown",
      "source": [
        "#main"
      ],
      "metadata": {
        "id": "Ev-MM5dPOzd1"
      }
    },
    {
      "cell_type": "code",
      "source": [
        "# Getting the inputs\n",
        "basename = input().strip()\n",
        "imghigh = input().strip()\n",
        "F = int(input().strip())\n",
        "gamma = float(input().strip())\n",
        "\n",
        "# Loading the images\n",
        "low_res_images = []\n",
        "for i in range(0, 4):\n",
        "        filename = f'{basename}{i}.png'# Compute histograms for each\n",
        "        img = imageio.imread(filename)\n",
        "        low_res_images.append(img)\n",
        "hig_res_images = imageio.imread(imghigh)\n",
        "\n",
        "# Method selection\n",
        "if F == 0:\n",
        "  enhanced_images = low_res_images\n",
        "elif F == 1:\n",
        "  enhanced_images = [single_img_comulative_histogram(img, 256) for img in low_res_images]\n",
        "elif F == 2:\n",
        "  enhanced_images = joint_cumulative_histogram(low_res_images, 256)\n",
        "elif F == 3:\n",
        "  enhanced_images = [gamma_correction(img, gamma) for img in low_res_images]\n",
        "else:\n",
        "  print(\"Error in the input parameter F.\")\n",
        "  sys.exit(1)\n",
        "\n",
        "# Appling superresolution\n",
        "H_hat = superresolution(enhanced_images)\n",
        "\n",
        "# Calculating RMSE\n",
        "rmse = calculate_rmse(hig_res_images, H_hat)\n",
        "print(f'{rmse:.4f}')"
      ],
      "metadata": {
        "id": "IKIirjuZJH_i",
        "colab": {
          "base_uri": "https://localhost:8080/"
        },
        "outputId": "77113124-8d18-4952-b9be-dc7e883c00ef"
      },
      "execution_count": null,
      "outputs": [
        {
          "output_type": "stream",
          "name": "stdout",
          "text": [
            "01_low\n",
            "01_high.png\n",
            "2\n",
            "1\n",
            "9.2855\n"
          ]
        }
      ]
    }
  ]
}