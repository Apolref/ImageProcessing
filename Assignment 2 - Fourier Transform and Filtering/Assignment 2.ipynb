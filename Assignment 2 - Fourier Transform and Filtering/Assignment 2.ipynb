{
  "nbformat": 4,
  "nbformat_minor": 0,
  "metadata": {
    "colab": {
      "provenance": []
    },
    "kernelspec": {
      "name": "python3",
      "display_name": "Python 3"
    },
    "language_info": {
      "name": "python"
    }
  },
  "cells": [
    {
      "cell_type": "markdown",
      "source": [
        "## Assignment 2 - Fourier Transform and Filtering\n",
        "\n"
      ],
      "metadata": {
        "id": "3v_oiu-CbduW"
      }
    },
    {
      "cell_type": "code",
      "execution_count": 1,
      "metadata": {
        "id": "P5HEYZZBbcKv",
        "colab": {
          "base_uri": "https://localhost:8080/",
          "height": 35
        },
        "outputId": "3b01e60e-2d49-4303-8d6d-e9ac16bd22a8"
      },
      "outputs": [
        {
          "output_type": "execute_result",
          "data": {
            "text/plain": [
              "'\\nNúmero USP: 11801199\\nCurso: Engenharia de Computação\\nSemestre: 2024/1\\nTítulo: 2 - Fourier Transform and Filtering\\n\\n'"
            ],
            "application/vnd.google.colaboratory.intrinsic+json": {
              "type": "string"
            }
          },
          "metadata": {},
          "execution_count": 1
        }
      ],
      "source": [
        "import numpy as np\n",
        "import imageio.v3 as imageio\n",
        "#import matplotlib.pyplot as plt\n",
        "import sys\n",
        "\n",
        "\"\"\"\n",
        "Número USP: 11801199\n",
        "Curso: Engenharia de Computação\n",
        "Semestre: 2024/1\n",
        "Título: 2 - Fourier Transform and Filtering\n",
        "\n",
        "\"\"\""
      ]
    },
    {
      "cell_type": "markdown",
      "source": [
        "#Low-Pass Filter"
      ],
      "metadata": {
        "id": "TRQOqeuK9p7T"
      }
    },
    {
      "cell_type": "code",
      "source": [
        "# Function to create an ideal low-pass filter\n",
        "def ideal_low_pass_filter(image,r):\n",
        "\trows, cols = image.shape\n",
        "\tcenterRow, centerCol = rows // 2, cols // 2\n",
        "\tmask = np.zeros((rows, cols))\n",
        "\tfor i in range(rows):\n",
        "\t\tfor j in range(cols):\n",
        "\t\t\tdist = np.sqrt((i - centerRow) ** 2 + (j - centerCol) ** 2)\n",
        "\t\t\tif dist <= r:\n",
        "\t\t\t\tmask[i, j] = 1\n",
        "\treturn image * mask"
      ],
      "metadata": {
        "id": "XPKCUJ5U9vYd"
      },
      "execution_count": 2,
      "outputs": []
    },
    {
      "cell_type": "markdown",
      "source": [
        "#High-Pass Filter"
      ],
      "metadata": {
        "id": "Y6iDsOgA9z0_"
      }
    },
    {
      "cell_type": "code",
      "source": [
        "# Function to create an ideal high-pass filter\n",
        "def ideal_high_pass_filter(image,r):\n",
        "\trows, cols = image.shape\n",
        "\tcenterRow, centerCol = rows // 2, cols // 2\n",
        "\tmask = np.zeros((rows, cols))\n",
        "\tfor i in range(rows):\n",
        "\t\tfor j in range(cols):\n",
        "\t\t\tdist = np.sqrt((i - centerRow) ** 2 + (j - centerCol) ** 2)\n",
        "\t\t\tif dist >= r:\n",
        "\t\t\t\tmask[i, j] = 1\n",
        "\treturn image * mask"
      ],
      "metadata": {
        "id": "65FXibGt9zbQ"
      },
      "execution_count": 3,
      "outputs": []
    },
    {
      "cell_type": "markdown",
      "source": [
        "#Band-Stop Filter"
      ],
      "metadata": {
        "id": "_VL5Tzrl9zQ-"
      }
    },
    {
      "cell_type": "code",
      "source": [
        "# Function to create an ideal band-stop filter\n",
        "def ideal_band_stop_filter(image,r0,r1):\n",
        "  rows, cols = image.shape\n",
        "  centerRow, centerCol = rows // 2, cols // 2\n",
        "  mask = np.zeros((rows, cols))\n",
        "  for i in range(rows):\n",
        "    for j in range(cols):\n",
        "      dist = np.sqrt((i - centerRow) ** 2 + (j - centerCol) ** 2)\n",
        "      if dist < r1 or dist > r0:\n",
        "        mask[i, j] = 1\n",
        "  return image * mask"
      ],
      "metadata": {
        "id": "qEEH5nX090P7"
      },
      "execution_count": 4,
      "outputs": []
    },
    {
      "cell_type": "markdown",
      "source": [
        "#RMSE"
      ],
      "metadata": {
        "id": "WZ6HvHJc9v-O"
      }
    },
    {
      "cell_type": "code",
      "source": [
        "# Function to calculate the Root Mean Square Error (RMSE)\n",
        "def calculate_rmse(imghigh, h_hat):\n",
        "  rmse = np.sqrt(np.mean((imghigh-h_hat)**2)) # appling the error formula\n",
        "  return rmse"
      ],
      "metadata": {
        "id": "i2PhMoZYgNab"
      },
      "execution_count": 5,
      "outputs": []
    },
    {
      "cell_type": "markdown",
      "source": [
        "#Laplacian high-pass filter"
      ],
      "metadata": {
        "id": "dmYgbb1g-Ho7"
      }
    },
    {
      "cell_type": "code",
      "source": [
        "# Function to create a Laplacian high-pass filter\n",
        "def laplacian_high_pass_filter(image):\n",
        "\trow, cols = image.shape\n",
        "\tcenterRow, centerCol = row // 2, cols // 2\n",
        "\tmask = np.zeros((row, cols))\n",
        "\tfor i in range(row):\n",
        "\t\tfor j in range(cols):\n",
        "\t\t\tmask[i, j] = - 4 * np.pi ** 2 * ( (i - centerRow) ** 2 + (j - centerCol) ** 2 )\n",
        "\treturn image * mask"
      ],
      "metadata": {
        "id": "VfrFaO_--JZ3"
      },
      "execution_count": 6,
      "outputs": []
    },
    {
      "cell_type": "markdown",
      "source": [
        "#Gaussian low-pass filter"
      ],
      "metadata": {
        "id": "drHAbGgW-LSH"
      }
    },
    {
      "cell_type": "code",
      "source": [
        "# Function to create a Gaussian low-pass filter\n",
        "def gaussian_low_pass_filter(image, o1, o2):\n",
        "\trow, cols = image.shape\n",
        "\tcenterRow, centerCol = row // 2, cols // 2\n",
        "\tmask = np.zeros((row, cols))\n",
        "\tfor i in range(row):\n",
        "\t\tfor j in range(cols):\n",
        "\t\t\tmask[i, j] = np.exp( (-1/2) * ( ((i - centerRow)/o1) ** 2 + ((j - centerCol)/o2) ** 2 ) )\n",
        "\treturn image * mask"
      ],
      "metadata": {
        "id": "CUMXMS1q-LBc"
      },
      "execution_count": 7,
      "outputs": []
    },
    {
      "cell_type": "markdown",
      "source": [
        "#main"
      ],
      "metadata": {
        "id": "1brS0MNebr-X"
      }
    },
    {
      "cell_type": "code",
      "source": [
        "def PosProc(imgFreq):\n",
        "  # Inverse Fourier Transform to get the processed image\n",
        "  imgPosProc = np.fft.ifft2(np.fft.ifftshift(imgFreq)).real\n",
        "  imgPosProc = (imgPosProc - np.min(imgPosProc)) * (255 / (np.max(imgPosProc)- np.min(imgPosProc)))\n",
        "  return imgPosProc\n",
        "# Getting the inputs\n",
        "I = input().strip() # baseimage\n",
        "H = input().strip() # reference image\n",
        "index = int(input().strip()) # filter index\n",
        "r, r0, r1 = None, None, None\n",
        "\n",
        "# Reading the images\n",
        "imgI = imageio.imread(I)\n",
        "imgH = imageio.imread(H)\n",
        "\n",
        "# Checking the filter index and setting parameters accordingly\n",
        "if index == 0: # ideal_low_pass_filter\n",
        "  r = int(input().strip())\n",
        "elif index == 1: # ideal_high_pass_filter\n",
        "  r = int(input().strip())\n",
        "elif index == 2: # ideal_band_stop_filter\n",
        "  r0 = int(input().strip())\n",
        "  r1 = int(input().strip())\n",
        "elif index == 3: # laplacian_high_pass_filter\n",
        "  pass\n",
        "elif index == 4: # gaussian_low_pass_filte\n",
        "  r0 = int(input().strip())\n",
        "  r1 = int(input().strip())\n",
        "else:\n",
        "  print(\"Error in the input parameter index.\")\n",
        "  sys.exit(1)\n",
        "\n",
        "# Generating the Fourier spectrum\n",
        "imgFreq = np.fft.fftshift(np.fft.fft2(imgI))\n",
        "\n",
        "# Image Processing\n",
        "if index == 0:\n",
        "\timgFreq = ideal_low_pass_filter(imgFreq, r)\n",
        "elif index == 1:\n",
        "  imgFreq = ideal_high_pass_filter(imgFreq, r)\n",
        "elif index == 2:\n",
        "  imgFreq = ideal_band_stop_filter(imgFreq, r0, r1)\n",
        "elif index == 3:\n",
        "  imgFreq = laplacian_high_pass_filter(imgFreq)\n",
        "elif index == 4:\n",
        "  imgFreq = gaussian_low_pass_filter(imgFreq, r0, r1)\n",
        "\n",
        "finalImg = PosProc(imgFreq)\n",
        "\n",
        "# Calculate RMSE\n",
        "rmse = calculate_rmse(imgH,finalImg)\n",
        "print(f'{rmse:.4f}')"
      ],
      "metadata": {
        "id": "XfBvTfzNbrZy"
      },
      "execution_count": null,
      "outputs": []
    }
  ]
}